{
 "cells": [
  {
   "cell_type": "markdown",
   "metadata": {},
   "source": [
    "Cargar Dataframe de cualquier tipo \n",
    ".csv, .xlsx, .html, .json"
   ]
  },
  {
   "cell_type": "code",
   "execution_count": 1,
   "metadata": {},
   "outputs": [],
   "source": [
    "import pandas as pd\n",
    "\n",
    "def cargar_dataframe(HongKong_China_Data, tipo_archivo):\n",
    "    \n",
    "    if tipo_archivo == 'csv':\n",
    "        return pd.read_csv(HongKong_China_Data)\n",
    "    \n",
    "    elif tipo_archivo == 'xlsx':\n",
    "        return pd.read_excel(HongKong_China_Data)\n",
    "    \n",
    "    elif tipo_archivo == 'html':\n",
    "        return pd.read_html(HongKong_China_Data)[0]  # pd.read_html devuelve una lista, seleccionamos el primer DataFrame\n",
    "    \n",
    "    elif tipo_archivo == 'json':\n",
    "        return pd.read_json(ruta_archivo)\n",
    "    \n",
    "    else:\n",
    "        raise ValueError(\"El tipo de archivo no es válido. Use 'csv', 'xlsx', 'html' o 'json'.\")"
   ]
  }
 ],
 "metadata": {
  "kernelspec": {
   "display_name": "Python 3",
   "language": "python",
   "name": "python3"
  },
  "language_info": {
   "codemirror_mode": {
    "name": "ipython",
    "version": 3
   },
   "file_extension": ".py",
   "mimetype": "text/x-python",
   "name": "python",
   "nbconvert_exporter": "python",
   "pygments_lexer": "ipython3",
   "version": "3.13.2"
  }
 },
 "nbformat": 4,
 "nbformat_minor": 2
}
